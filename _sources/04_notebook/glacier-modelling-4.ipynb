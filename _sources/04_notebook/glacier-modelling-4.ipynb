{
 "cells": [
  {
   "cell_type": "markdown",
   "id": "8a53ac9e",
   "metadata": {},
   "source": [
    "# Notebook 4\n",
    "\n",
    "[Download the notebook](notebook4.zip)"
   ]
  },
  {
   "cell_type": "markdown",
   "id": "cb950186",
   "metadata": {},
   "source": [
    "In this notebook we aim to model the evolution of \"[Glacier du Mont Miné](https://www.google.com/maps/place/Mont+Min%C3%A9+Glacier/@46.0145075,7.4877889,24811m/data=!3m1!1e3!4m6!3m5!1s0x478f2db4b5d1a731:0x2c7d28e4d7f7bb26!8m2!3d46.014!4d7.54439!16s%2Fm%2F04n61lb?entry=ttu&g_ep=EgoyMDI0MTAyNy4wIKXMDSoASAFQAw%3D%3D,)\" located in te South of Sion (Valais, Switzerland), from the end of the little ice age (about 1850) to now.\n",
    "\n",
    "You may find on slides 28 to 30 some graphical [illustrations](https://www.unige.ch/forel/application/files/3116/5476/6042/F-Evolene-Paysagesglaciaires_compressed.pdf) of the retreat of the Mont Miné Glacier since the end of the Little Ice Age (LIA).\n",
    "\n",
    "<!-- \n",
    "<img src=\"fig/mont_mine_2.png\" alt=\"La mer de Glace\" width=\"80%\">\n",
    "\n",
    "In more details, the goal is to reproduce the documented retreat as shown on this slide:\n",
    "\n",
    "<img src=\"fig/mont_mine_1.png\" alt=\"La mer de Glace\" width=\"80%\">\n",
    "-->"
   ]
  },
  {
   "cell_type": "markdown",
   "id": "60f0c0ac",
   "metadata": {},
   "source": [
    "First, we will donwload the data of Mont Miné Glacier stored in folder `RGI60-11.02709` (this can done directly in IGM withing the OGGM module, however, it is but quicker to do it separatly. IGM will notice the data are already there, and won't download through OGGM.)"
   ]
  },
  {
   "cell_type": "code",
   "execution_count": null,
   "id": "a64b6735",
   "metadata": {},
   "outputs": [],
   "source": [
    "\n",
    "import subprocess, os, zipfile\n",
    "\n",
    "url = \"https://www.dropbox.com/scl/fi/29b27a98fchvjgm4fzo99/RGI60-11.02709.zip?rlkey=de8ndc3taa3iw1nraqfidq477&st=3c85sk36&dl=0\"\n",
    " \n",
    "if not os.path.exists(\"RGI60-11.02709\"):\n",
    "\n",
    "    # Download the file with wget\n",
    "    subprocess.run(['wget', '-O', 'downloaded_file.zip', url]) \n",
    "\n",
    "    # Unzipping the file \n",
    "    with zipfile.ZipFile('downloaded_file.zip', 'r') as zip_ref:\n",
    "        zip_ref.extractall('')\n",
    "\n",
    "    # Clean up (delete) the zip file after extraction\n",
    "    os.remove('downloaded_file.zip')"
   ]
  },
  {
   "cell_type": "markdown",
   "id": "1aa6292e",
   "metadata": {
    "vscode": {
     "languageId": "ruby"
    }
   },
   "source": [
    "## Calibrate the glacier model to match the OSL data\n",
    "\n",
    "Running `igm_run --param_file params.json` will do a certain number of things :\n",
    " - Use 'oggm' to read to collect the data related to the Mont Miné glacier (Switzerland), which as the ID : RGI60-11.02709 (explore https://www.glims.org/maps/glims to find the ID of other glaciers). As said before, having downloaded the data already, this step is in fact ignored, but would be active if we were picking another glacier ID.\n",
    " - Run the model forward in time from 1700 to 2024 with a rather simple surface mass balance parametrized by the equilibrium line altitude (ELA).\n",
    " - Save the output in a netCDF file `output.nc`."
   ]
  },
  {
   "cell_type": "code",
   "execution_count": null,
   "id": "652f3eec",
   "metadata": {},
   "outputs": [],
   "source": [
    "! igm_run --param_file params.json"
   ]
  },
  {
   "cell_type": "markdown",
   "id": "494e96ee",
   "metadata": {},
   "source": [
    "IGM's previous run did the following:\n",
    "  - Collected data in the folder `RGI60-11.02709` and summarized it in `input_saved.nc`.\n",
    "  - Reported the time evolution of the ice volume as output from the code.\n",
    "  - Saved all results in the file `output.nc`.\n",
    "\n",
    "Let's first take a look at this data. It corresponds to the reconstruction of the ice thickness, surface topography, and surface ice flow field obtained after a \"data assimilation\" step that is not detailed further here. We can visualize the data by reading `input_saved.nc` using a helper function `plot_input_data` that displays the surface topography , the ice thickness (Millan et al. 2022), and the location of sampling points."
   ]
  },
  {
   "cell_type": "code",
   "execution_count": null,
   "id": "275c3430",
   "metadata": {},
   "outputs": [],
   "source": [
    "from helper import *\n",
    "\n",
    "plot_input_data(file = \"input_saved.nc\")"
   ]
  },
  {
   "cell_type": "markdown",
   "id": "e0e0ccab",
   "metadata": {},
   "source": [
    "Explore `params.json` to see the details of the configuration. A closer look at the parameter file shows that we declare some physical modules, such as `smb_simple`, `iceflow`, `time`, and `thk`.\n",
    "\n",
    "The first module `smb_simple` computes the surface mass balance as $SMB(z) = \\alpha (z - z_{ELA})$, with one SMB gradient $\\beta_{abl}$ in the ablation area when $z < z_{ELA}$, and one SMB gradient $\\beta_{acc}$ in the accumulation area when $z > z_{ELA}$, along with a maximum SMB capping value of $a_{max}$, as illustrated in the following figure:"
   ]
  },
  {
   "cell_type": "code",
   "execution_count": null,
   "id": "9fb19e01",
   "metadata": {},
   "outputs": [],
   "source": [
    "import numpy as np\n",
    "import matplotlib.pyplot as plt\n",
    "\n",
    "def surface_mass_balance(z, z_ELA, beta_abl, beta_acc, a_max):\n",
    "    smb = np.zeros_like(z)\n",
    "    smb[z < z_ELA] = beta_abl * (z[z < z_ELA] - z_ELA)\n",
    "    smb[z > z_ELA] = beta_acc * (z[z > z_ELA] - z_ELA)\n",
    "    smb[smb > a_max] = a_max\n",
    "    return smb\n",
    " \n",
    "z = np.linspace(1000, 4000, 100) \n",
    "smb_values = surface_mass_balance(z, z_ELA= 3000, beta_abl= 0.005, beta_acc= 0.002, a_max= 1.0)\n",
    " \n",
    "plt.figure(figsize=(10, 6))\n",
    "plt.plot(z, smb_values, label='Surface Mass Balance (SMB)', color='blue')\n",
    "plt.axhline(0, color='grey', linestyle='--', linewidth=0.8)  # Line at 0\n",
    "plt.axvline(3000, color='red', linestyle='--', label='ELA (z_ELA)', linewidth=1)  # ELA line\n",
    "plt.title('Surface Mass Balance as a Function of Elevation')\n",
    "plt.xlabel('Elevation (m)')\n",
    "plt.ylabel('Surface Mass Balance (SMB)') \n",
    "plt.legend()\n",
    "plt.grid()\n",
    "plt.show()"
   ]
  },
  {
   "cell_type": "markdown",
   "id": "b2889f72",
   "metadata": {},
   "source": [
    "\n",
    "In `params.json`, the SMB parameters are evolving with time as follows:\n",
    "\n",
    "```json\n",
    "  [\"time\", \"gradabl\", \"gradacc\", \"ela\", \"accmax\"],\n",
    "  [ 1700,      0.009,     0.005,  2850,      2.0],\n",
    "  [ 1800,      0.009,     0.005,  2900,      2.0],\n",
    "  [ 1850,      0.009,     0.005,  2900,      2.0],\n",
    "  [ 1900,      0.009,     0.005,  3000,      2.0],  \n",
    "  [ 2000,      0.009,     0.005,  3100,      2.0],  \n",
    "  [ 2024,      0.009,     0.005,  3100,      2.0]\n",
    "```\n",
    "this allows us to describe a changing ELA to mimic with an advance (to the little ice age), followed by a retreat as the one observed since the end of the little ice age (LIA).\n",
    "\n",
    "Let's now look at the results, vizualizing the time evolution of the glacier : "
   ]
  },
  {
   "cell_type": "code",
   "execution_count": null,
   "id": "9e853837",
   "metadata": {},
   "outputs": [],
   "source": [
    "from helper import *\n",
    "animate_glacier_evolution('output.nc')"
   ]
  },
  {
   "cell_type": "markdown",
   "id": "3136f3f4",
   "metadata": {},
   "source": [
    "Now, we can visualize the time evolution of the modelled ice thickness at the location of each samples using the following plot."
   ]
  },
  {
   "cell_type": "code",
   "execution_count": null,
   "id": "4706d4b0",
   "metadata": {},
   "outputs": [],
   "source": [
    "from helper import *\n",
    "plot_thk_at_sample('output.nc')"
   ]
  },
  {
   "cell_type": "markdown",
   "id": "10c0613d",
   "metadata": {
    "vscode": {
     "languageId": "bat"
    }
   },
   "source": [
    "✅ **Your turn !** \n",
    "\n",
    "Modify the parameters in `params.json` as follows (tips: you may use a copy -- e.g. `params_0.json` -- to keep experimenting without losing the original setup):\n",
    "\n",
    "- Change the SMB parameters: initially adjust the ELA values over time, and later consider modifying the mass balance gradients and maximum accumulation values.\n",
    "- Set the parameter \"iflo_init_slidingco\" to a higher value (e.g., 0.4 for less basal sliding) and a lower value (e.g., 0.1 for more basal sliding).\n",
    "\n",
    "After making these changes, observe how they affect the glacier, and attempt to align the model (by changing iteratively parameters) with the ages of the collected samples.\n"
   ]
  },
  {
   "cell_type": "markdown",
   "id": "16339ec8",
   "metadata": {},
   "source": [
    "## To go further : moraine building\n",
    "\n",
    "In the next step, we will activate particle tracking in the Ice Glacier Model (IGM) to simulate the displacement of virtual particles within the ice flow. These particles may represent debris or sediments that are transported by the glacier and are responsible for the formation of moraines. Our goal is to model the formation of the main moraine that developed during the Little Ice Age when the glacier reached its maximum extent.\n",
    "\n",
    "To achieve this, we need to make two changes to the parameter file `params.json`. First, we need to add two modules, \"vert_flow\" and \"particles\", to the IGM. The \"vert_flow\" module computes vertical velocities (which is not done by default as it is not usually required), while the \"particles\" module tracks the trajectory of individual particles. We will accomplish this by adding these modules to the \"modules_process\" section of the parameter file:\n",
    "\n",
    "```json\n",
    "  \"modules_process\": [\"smb_simple\",\n",
    "                      \"iceflow\",\n",
    "                      \"time\",\n",
    "                      \"thk\",\n",
    "                      \"vert_flow\",\n",
    "                      \"particles\"\n",
    "                      ],\n",
    "```\n",
    "\n",
    "Second, one needs to add the following parameters :\n",
    "\n",
    "```json\n",
    "  \"vflo_method\": \"kinematic\",\n",
    "  \"part_tracking_method\": \"3d\",\n",
    "  \"part_density_seeding\": 0.25,\n",
    "  \"part_frequency_seeding\": 30\n",
    "```\n",
    "\n",
    "It is possible to visualize the moraine formed by looking at the file `velbar_mag-XXXX.0.png`. Compare it with a satellite image of the \"[Glacier du Mont Miné](https://www.google.com/maps/place/Mont+Min%C3%A9+Glacier/@46.0145075,7.4877889,24811m/data=!3m1!1e3!4m6!3m5!1s0x478f2db4b5d1a731:0x2c7d28e4d7f7bb26!8m2!3d46.014!4d7.54439!16s%2Fm%2F04n61lb?entry=ttu&g_ep=EgoyMDI0MTAyNy4wIKXMDSoASAFQAw%3D%3D,)\"\n"
   ]
  },
  {
   "cell_type": "markdown",
   "id": "38e745b9",
   "metadata": {},
   "source": [
    "✅ **Yout turn !** \n",
    "\n",
    "Try to adjust the model to reproduce as closely as possible the little ice age moraine."
   ]
  },
  {
   "cell_type": "markdown",
   "id": "996eda0e",
   "metadata": {},
   "source": [
    "## To go further : using a **true** Surface Mass Balance Model \n",
    "\n",
    "In the next step, we will replace the simple Surface Mass Balance (SMB) model with an improved model known as the [Positive Degree Day Model (PDD)](https://www.antarcticglaciers.org/glaciers-and-climate/numerical-ice-sheet-models/modelling-glacier-melt/). This model computes the SMB based on climate forcing (temperature and precipitation) by seasonally summing the amount of snow precipitation and melt, which is determined as proportional to the number of days with positive temperatures.\n",
    "\n",
    "To implement this, we need to make two changes to the parameter file `params.json`. First, we will replace the module \"smb_simple\" with two modules: \"clim_oggm\" and \"smb_oggm,\" which will update the climate and the surface mass balance, respectively. \"clim_oggm\" will also take care of retrieving historical climate data located in folder `RGI60-11.02709`, and generate climate forcing frm this.\n",
    "\n",
    "```json\n",
    "  \"modules_process\": [\"clim_oggm\",\n",
    "                      \"smb_oggm\",\n",
    "                      \"iceflow\",\n",
    "                      \"time\",\n",
    "                      \"thk\"\n",
    "                      ],\n",
    "```\n",
    "\n",
    "\n",
    "Second, one needs to replace \"smb_simple_array\" by another array:\n",
    "\n",
    "```json\n",
    "  \"clim_oggm_clim_trend_array\": [\n",
    "                        [\"time\", \"delta_temp\", \"prec_scal\"],\n",
    "                        [ 1700,           0.0,         1.0],\n",
    "                        [ 1800,           0.0,         1.0],\n",
    "                        [ 1900,           0.0,         1.0],\n",
    "                        [ 2024,           1.0,         1.0]\n",
    "                                 ],\n",
    "```\n",
    "\n",
    "Similar to the previous method, this array assigns weights to modify precipitation and temperature series based on a *neutral* climate period, typically defined as 1960-1990. By adjusting the temperature offset in the \"delta_temp\" column, for example, a value of -2.0 would create a climate scenario for the 1960-1990 period that is 2 degrees cooler. Likewise, by modifying the precipitation scaling in the \"prec_scal\" column, a value of 1.5 would result in a climate scenario that has 150% of the precipitation compared to the 1960-1990 average.\n",
    "\n",
    "Finally, you can incorporate this parameter to provide global control for melt (note that the melt parameters in the PDD model are notoriously uncertain):\n",
    "\n",
    "```json\n",
    "   \"melt_enhancer\": 0.7,\n",
    "```"
   ]
  }
 ],
 "metadata": {
  "kernelspec": {
   "display_name": "igm",
   "language": "python",
   "name": "python3"
  },
  "language_info": {
   "codemirror_mode": {
    "name": "ipython",
    "version": 3
   },
   "file_extension": ".py",
   "mimetype": "text/x-python",
   "name": "python",
   "nbconvert_exporter": "python",
   "pygments_lexer": "ipython3",
   "version": "3.10.14"
  }
 },
 "nbformat": 4,
 "nbformat_minor": 5
}
