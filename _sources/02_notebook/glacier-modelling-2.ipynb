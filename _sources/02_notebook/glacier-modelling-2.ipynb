{
 "cells": [
  {
   "cell_type": "markdown",
   "id": "8a53ac9e",
   "metadata": {},
   "source": [
    "# Notebook 2\n",
    "\n",
    "[Download the notebook](notebook2.zip)"
   ]
  },
  {
   "cell_type": "markdown",
   "id": "c0d95732",
   "metadata": {},
   "source": [
    "[![Open In Colab](https://colab.research.google.com/assets/colab-badge.svg)](\n",
    "https://colab.research.google.com/github/gjouvet/glacier-tutorials/blob/main/notebooks/demo.ipynb)"
   ]
  },
  {
   "cell_type": "markdown",
   "id": "5084f76e",
   "metadata": {},
   "source": [
    "## Goals of this notebook\n",
    "\n",
    "   - Get familiar with model IGM\n",
    "   - Understand the parameters, set-up your model\n",
    "   - Run IGM examples\n",
    "   - Custumization, run IGM for your own glacier"
   ]
  },
  {
   "cell_type": "markdown",
   "id": "ae0bae51",
   "metadata": {},
   "source": [
    "## What is IGM?\n",
    "\n",
    "Here we will use the glacier evolution model developed at UNIL -- the Instructed Glacier Model.\n",
    " \n",
    "The IGM is an open-source Python package, which permits to simulate 3D glacier evolution accounting for the coupling between ice thermo-dynamics, surface mass balance, and mass conservation. IGM is especially computationally efficient thanks to the TensorFlow library, mathematical operations are fully-vectorized. This permits tremendous speed-ups on [GPU](https://en.wikipedia.org/wiki/Graphics_processing_unit) (Graphics Processing Units), which are devices made of many processors, and can therefore perform highly-parallelized computations.\n",
    "\n",
    "All the documentation can be found at [https://igm-model.org/](https://igm-model.org/)."
   ]
  },
  {
   "cell_type": "markdown",
   "id": "3b73e6cf",
   "metadata": {},
   "source": [
    "## How to install IGM?\n",
    "\n",
    "Running IGM consists of running a python script `igm_run`, which is made of functions of the `igm` python package.  First of all, one needs to install igm as follows:"
   ]
  },
  {
   "cell_type": "code",
   "execution_count": null,
   "id": "16605c62",
   "metadata": {},
   "outputs": [],
   "source": [
    "# Installation of the igm package directly from the github repository, this may take a while\n",
    "!pip install git+https://github.com/instructed-glacier-model/igm.git@main"
   ]
  },
  {
   "cell_type": "markdown",
   "id": "cf6d6174",
   "metadata": {},
   "source": [
    "## First run with IGM"
   ]
  },
  {
   "cell_type": "markdown",
   "id": "ca7924d3",
   "metadata": {},
   "source": [
    "### Folder exploration\n",
    "\n",
    "Let us explore the directory with the following comand:"
   ]
  },
  {
   "cell_type": "code",
   "execution_count": null,
   "id": "6e59ba48",
   "metadata": {},
   "outputs": [],
   "source": [
    "!tree"
   ]
  },
  {
   "cell_type": "markdown",
   "id": "fa77e115",
   "metadata": {},
   "source": [
    "You will see the following files :\n",
    "\n",
    "```bash\n",
    ".\n",
    "├── data \n",
    "├── experiment\n",
    "│   ├── params_0.yaml\n",
    "│   ├── params_1.yaml\n",
    "│   └── params_2.yaml  \n",
    "└── user\n",
    "    ├── code \n",
    "    └── conf \n",
    "```\n",
    "\n",
    "The important here are the folder `data`, which will contain all the **input** data to run the model, the parameters file in folder **experiment**. The folder **user** can serve to custumize some function (such as SMB function)."
   ]
  },
  {
   "cell_type": "markdown",
   "id": "2ae51552",
   "metadata": {},
   "source": [
    "### Parameter file exploration\n",
    "\n",
    "If you look at the parameter file, you will see the following files, whcih shows all the input, process, and output modules along with all their parameters.\n",
    "\n",
    "Below, you may notice that IGM :\n",
    "   - first loads a certain number of inputs, processes, and output modules.\n",
    "   - Second define parameters associated with each module that deviates from default ones.\n",
    "\n",
    "IGM is organized module-wise : as detailled here : https://igm-model.org/latest/modules/introduction/\n",
    "\n",
    "In the example below (taken from IGM's exampled `aletsch-basic`), IGM loads data with the `local` module, proceed to a simulation from 1900 to 2000 updating surface mass balance (`smb`), iceflow, time, and ice thickness. Then, it writes the results in both a local file (netcdf file), and in form of plots."
   ]
  },
  {
   "cell_type": "markdown",
   "id": "209b9a92",
   "metadata": {},
   "source": [
    "\n",
    "```yaml title=\"params.yaml\"\n",
    "# @package _global_\n",
    "\n",
    "defaults:\n",
    "  - override /inputs: \n",
    "    - local\n",
    "  - override /processes: \n",
    "    - smb_simple\n",
    "    - iceflow\n",
    "    - time\n",
    "    - thk\n",
    "  - override /outputs: \n",
    "    - local\n",
    "    - plot2d\n",
    "\n",
    "inputs:\n",
    "  local:\n",
    "     filename: input.nc\n",
    "\n",
    "processes:\n",
    "  smb_simple:\n",
    "    array:\n",
    "      - [\"time\", \"gradabl\", \"gradacc\", \"ela\", \"accmax\"]\n",
    "      - [1900, 0.009, 0.005, 2800, 2.0]\n",
    "      - [2000, 0.009, 0.005, 2900, 2.0]\n",
    "      - [2100, 0.009, 0.005, 3300, 2.0]\n",
    "  time:\n",
    "    start: 1900.0\n",
    "    end: 2000.0\n",
    "    save: 10.0\n",
    "    \n",
    "outputs:\n",
    "  plot2d:\n",
    "    live: False\n",
    "```"
   ]
  },
  {
   "cell_type": "markdown",
   "id": "8418a706",
   "metadata": {},
   "source": [
    "### Runing IGM (`params_0`)\n",
    "\n",
    "Now, we can run IGM by simply run the command `igm_run +experiment=params` (or replace `params` with the actual name of your parameter file) in the corresponding folder to execute the example."
   ]
  },
  {
   "cell_type": "code",
   "execution_count": null,
   "id": "fc39442a",
   "metadata": {},
   "outputs": [],
   "source": [
    "!igm_run +experiment=params_0"
   ]
  },
  {
   "cell_type": "markdown",
   "id": "4e9eaffb",
   "metadata": {},
   "source": [
    "### Explore the output\n",
    "\n",
    "Each IGM run will then generate a folder with the day as the parent folder and the time as a subfolder. For instance, after a few runs we could end up with the following structure\n",
    "\n",
    "```bash\n",
    "outputs\n",
    "  └───2025-04-07\n",
    "      ├─── 12-06-29 \n",
    "      └─── 12-07-38 \n",
    "``` "
   ]
  },
  {
   "cell_type": "markdown",
   "id": "f95de27d",
   "metadata": {},
   "source": [
    "\n",
    "### Runing IGM (`params_1`)\n",
    "\n",
    "The above example is somewhat limited\n",
    "\n",
    "Copy and paste the following YAML parameter file (name it `params.yaml`), place it in a folder named `experiment`, and then run the command `igm_run +experiment=params`. This will model the Glacier with RGI ID `RGI60-11.01450` (the Great Aletsch Glacier, Switzerland) from 2020 to 2100, assuming a temperature increase of 4 degrees by 2100 relative to 1960–1990. \n",
    "\n",
    "The run will:\n",
    "1. Use the `oggm_shop` module to download all necessary data via OGGM.\n",
    "2. Execute a forward model combining the OGGM-based SMB model and the IGM-based ice flow model.\n",
    "3. Write and plot the results in real time.\n",
    "\n",
    "!!! warning\n",
    "\n",
    "    This setup is provided as an example and has not been validated against historical data. It should not be interpreted as a scientifically accurate simulation. After running this example, you can explore different glaciers by selecting a different ID (refer to the [GLIMS Viewer](https://www.glims.org/maps/glims)), modify parameters, or experiment with additional modules.\n"
   ]
  }
 ],
 "metadata": {
  "kernelspec": {
   "display_name": "igm",
   "language": "python",
   "name": "python3"
  },
  "language_info": {
   "codemirror_mode": {
    "name": "ipython",
    "version": 3
   },
   "file_extension": ".py",
   "mimetype": "text/x-python",
   "name": "python",
   "nbconvert_exporter": "python",
   "pygments_lexer": "ipython3",
   "version": "3.10.16"
  }
 },
 "nbformat": 4,
 "nbformat_minor": 5
}
