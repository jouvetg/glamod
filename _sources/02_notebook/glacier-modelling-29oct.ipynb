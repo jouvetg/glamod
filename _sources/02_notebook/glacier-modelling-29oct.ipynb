{
 "cells": [
  {
   "cell_type": "markdown",
   "id": "8a53ac9e",
   "metadata": {},
   "source": [
    "# Notebook 2\n",
    "\n",
    "- If you work on Google Colab, [![open In Colab](https://colab.research.google.com/assets/colab-badge.svg)](\n",
    "https://colab.research.google.com/github/jouvetg/glamod/blob/main/02_notebook/glacier-modelling-2.ipynb) and you will donwload the repo  below. Make sure to activate the GPU on Colab \"Runtime\" -> \"Change Runtime Type\" -> Slect GPU.\n",
    "\n",
    "- If you work locally on your own PC, you can download the repo\n",
    "```bash\n",
    "git clone --depth 1 https://github.com/jouvetg/glamod.git\n",
    "```\n",
    "and then go the notebook folder, and work from there."
   ]
  },
  {
   "cell_type": "markdown",
   "id": "3b73e6cf",
   "metadata": {},
   "source": [
    "## How to install IGM?\n",
    "\n",
    "Running IGM consists of running a python script `igm_run`, which is made of functions of the `igm` python package.  First of all, one needs to install igm as follows: (this may take a while, and it may crashes the first time, but should work the second time)."
   ]
  },
  {
   "cell_type": "code",
   "execution_count": null,
   "id": "16605c62",
   "metadata": {},
   "outputs": [],
   "source": [
    "! pip install -i https://test.pypi.org/simple/ --extra-index-url https://pypi.org/simple igm-model-testing-package==3.0.5"
   ]
  },
  {
   "cell_type": "markdown",
   "id": "493eee8e",
   "metadata": {},
   "source": [
    "In this notebook, we will explore 3 model runs with increasing complexity:\n",
    "\n",
    "- A first basic run with a simple surface mass balance model\n",
    "- A second one that works for any glacier, with a more elaborate SMB\n",
    "- A third with a user-defined SMB and particle tracking"
   ]
  },
  {
   "cell_type": "markdown",
   "id": "2b6ad9d5",
   "metadata": {},
   "source": [
    "## Download the data"
   ]
  },
  {
   "cell_type": "markdown",
   "id": "65c83120",
   "metadata": {},
   "source": [
    "Let's now download the repo with the data if you are using Colab"
   ]
  },
  {
   "cell_type": "code",
   "execution_count": null,
   "id": "74642421",
   "metadata": {},
   "outputs": [],
   "source": [
    "import sys, os\n",
    " \n",
    "if \"google.colab\" in sys.modules:\n",
    "    print(\"Running in Colab: cloning repo...\")\n",
    "    !git clone --depth 1 https://github.com/jouvetg/glamod.git\n",
    "    !apt-get install tree -q\n",
    "else:\n",
    "    print(\"Running locally: using local files.\")"
   ]
  },
  {
   "cell_type": "markdown",
   "id": "d2cfa822",
   "metadata": {},
   "source": [
    "Let's now go the working folder"
   ]
  },
  {
   "cell_type": "code",
   "execution_count": null,
   "id": "608636f0",
   "metadata": {},
   "outputs": [],
   "source": [
    "if \"google.colab\" in sys.modules:\n",
    "    %cd /content/glamod/02_notebook"
   ]
  },
  {
   "cell_type": "markdown",
   "id": "b9345b7f",
   "metadata": {},
   "source": [
    "## Second run with IGM"
   ]
  },
  {
   "cell_type": "markdown",
   "id": "f95de27d",
   "metadata": {},
   "source": [
    "The above example is somewhat limited. In a second run, we are making improvements using `params_1.yaml` instead of `params_0.yaml`:\n",
    "\n",
    "**First improvement:** Instead of using local data, we use the module `oggm_shop` to download all necessary data. The main advantage is that we can order any glacier using their RGI ID, and therefore get the data for any glacier on Earth!\n",
    "\n",
    "**Second improvement:** OGGM will download climate data (a time series), which will serve to generate a climate (temperature and precipitation in module `clim_oggm`) to compute a better Surface Mass Balance model. Note this parameter in the parameter file:\n",
    "\n",
    "```yaml\n",
    "  clim_oggm:\n",
    "    clim_trend_array: \n",
    "      - [\"time\", \"delta_temp\", \"prec_scal\"]\n",
    "      - [ 1900,           0.0,         1.0]\n",
    "      - [ 2020,           0.0,         1.0]\n",
    "      - [ 2100,           4.0,         1.0]\n",
    "```\n",
    "\n",
    "Similar to the previous method, this array assigns weights to modify precipitation and temperature series based on a *neutral* climate period, typically defined as 1960-1990. By adjusting the temperature offset in the `delta_temp` column, for example, a value of -2.0 would create a climate scenario for the 1960-1990 period that is 2 degrees cooler. Likewise, by modifying the precipitation scaling in the `prec_scal` column, a value of 1.5 would result in a climate scenario that has 150% of the precipitation compared to the 1960-1990 average.\n",
    "\n",
    "Finally, you can incorporate this parameter to provide global control for melt (note that the melt parameters in the PDD model are notoriously uncertain):\n",
    "\n",
    "```yaml\n",
    "   melt_enhancer: 0.7\n",
    "```\n",
    "\n",
    "Find more information about the generated climate [here](https://igm-model.org/latest/modules/processes/clim_oggm/).\n",
    "\n",
    "**Third improvement:** Instead of using the Simple Surface Mass Balance `smb_simple`, and now that we have climate available, we will use the `smb_oggm` SMB, which is a monthly temperature index model as described [here](https://igm-model.org/latest/modules/processes/smb_oggm/).\n",
    "\n",
    "First explore `params_1.yaml`, then run the following command, which will model the Glacier with RGI ID `RGI60-11.01450` (the Great Aletsch Glacier, Switzerland) from 2020 to 2100, assuming a temperature increase of 4 degrees by 2100 relative to 1960–1990:"
   ]
  },
  {
   "cell_type": "markdown",
   "id": "27d8fe08",
   "metadata": {},
   "source": [
    "## Visualizing Climate Data\n",
    "\n",
    "Let's explore the historical climate data that was used for the glacier simulation. We will open the `climate_historical.nc` file and plot the smoothed precipitation and temperature time series on the same graph."
   ]
  },
  {
   "cell_type": "code",
   "execution_count": null,
   "id": "9aa8ca25",
   "metadata": {},
   "outputs": [],
   "source": [
    "import xarray as xr\n",
    "import matplotlib.pyplot as plt\n",
    "import numpy as np\n",
    "from scipy.ndimage import uniform_filter1d\n",
    "\n",
    "# Open the climate data\n",
    "climate_data = xr.open_dataset('data/RGI2000-v7.0-G-11-02596/climate_historical.nc')\n",
    "\n",
    "# Extract temperature and precipitation\n",
    "temp = climate_data['temp'].values\n",
    "prcp = climate_data['prcp'].values\n",
    "time = climate_data['time'].values\n",
    "\n",
    "# Apply smoothing (moving average with window size of 12 months for annual smoothing)\n",
    "window_size = 12\n",
    "temp_smoothed = uniform_filter1d(temp, size=window_size, mode='nearest')\n",
    "prcp_smoothed = uniform_filter1d(prcp, size=window_size, mode='nearest')\n",
    "\n",
    "# Create figure with two y-axes\n",
    "fig, ax1 = plt.subplots(figsize=(12, 6))\n",
    "\n",
    "# Plot temperature on the left y-axis\n",
    "color = 'tab:red'\n",
    "ax1.set_xlabel('Time', fontsize=12)\n",
    "ax1.set_ylabel('Temperature (°C)', color=color, fontsize=12)\n",
    "ax1.plot(time, temp_smoothed, color=color, linewidth=2, label='Temperature (smoothed)')\n",
    "ax1.tick_params(axis='y', labelcolor=color)\n",
    "ax1.grid(True, alpha=0.3)\n",
    "\n",
    "# Create second y-axis for precipitation\n",
    "ax2 = ax1.twinx()\n",
    "color = 'tab:blue'\n",
    "ax2.set_ylabel('Precipitation (mm)', color=color, fontsize=12)\n",
    "ax2.plot(time, prcp_smoothed, color=color, linewidth=2, label='Precipitation (smoothed)')\n",
    "ax2.tick_params(axis='y', labelcolor=color)\n",
    "\n",
    "# Add title and layout\n",
    "plt.title('Historical Climate Data (Smoothed)', fontsize=14, fontweight='bold')\n",
    "fig.tight_layout()\n",
    "\n",
    "# Add legends\n",
    "ax1.legend(loc='upper left')\n",
    "ax2.legend(loc='upper right')\n",
    "\n",
    "plt.show()\n",
    "\n",
    "# Display some basic statistics\n",
    "print(f\"\\nClimate Data Summary:\")\n",
    "print(f\"Time period: {time[0]} to {time[-1]}\")\n",
    "print(f\"Temperature range: {temp.min():.2f}°C to {temp.max():.2f}°C\")\n",
    "print(f\"Mean temperature: {temp.mean():.2f}°C\")\n",
    "print(f\"Precipitation range: {prcp.min():.2f} to {prcp.max():.2f} mm\")\n",
    "print(f\"Mean precipitation: {prcp.mean():.2f} mm\")"
   ]
  },
  {
   "cell_type": "code",
   "execution_count": null,
   "id": "e48ad222",
   "metadata": {},
   "outputs": [],
   "source": []
  },
  {
   "cell_type": "code",
   "execution_count": null,
   "id": "f0ef1460",
   "metadata": {},
   "outputs": [],
   "source": [
    "! igm_run +experiment=params_1"
   ]
  },
  {
   "cell_type": "markdown",
   "id": "58971f6d",
   "metadata": {},
   "source": [
    "Running the code has created the following output files:"
   ]
  },
  {
   "cell_type": "code",
   "execution_count": null,
   "id": "23e56e44",
   "metadata": {},
   "outputs": [],
   "source": [
    "from helper import *\n",
    "import glob\n",
    "\n",
    "# Find all output files\n",
    "A = glob.glob('outputs/*/*/output.nc')\n",
    "print(f\"Found {len(A)} output file(s):\", A)\n",
    "\n",
    "if A:\n",
    "    # Animate the last run\n",
    "    animate_glacier_evolution(A[-1])\n",
    "else:\n",
    "    print(\"No output.nc files found. Please run the model first.\")"
   ]
  },
  {
   "cell_type": "markdown",
   "id": "eceaa547",
   "metadata": {},
   "source": [
    "### Analyzing the time series results\n",
    "\n",
    "Let's examine how the glacier evolved under the climate scenario:"
   ]
  },
  {
   "cell_type": "code",
   "execution_count": null,
   "id": "f2439d7f",
   "metadata": {},
   "outputs": [],
   "source": [
    "from helper import *\n",
    "import glob\n",
    "import os\n",
    "\n",
    "# Find all time series files and select the most recent one\n",
    "ts_files = sorted(glob.glob('outputs/*/*/output_ts.nc'))\n",
    "\n",
    "if ts_files:\n",
    "    # Get the absolute path to ensure it works from any directory\n",
    "    ts_file = os.path.abspath(ts_files[-1])\n",
    "    print(f\"Found {len(ts_files)} time series file(s). Using: {ts_files[-1]}\\n\")\n",
    "    # Analyze the time series from the most recent run\n",
    "    analyze_time_series(ts_file)\n",
    "else:\n",
    "    print(\"No output_ts.nc file found. Please run the model first.\")"
   ]
  }
 ],
 "metadata": {
  "kernelspec": {
   "display_name": "igm",
   "language": "python",
   "name": "python3"
  },
  "language_info": {
   "codemirror_mode": {
    "name": "ipython",
    "version": 3
   },
   "file_extension": ".py",
   "mimetype": "text/x-python",
   "name": "python",
   "nbconvert_exporter": "python",
   "pygments_lexer": "ipython3",
   "version": "3.10.16"
  }
 },
 "nbformat": 4,
 "nbformat_minor": 5
}
