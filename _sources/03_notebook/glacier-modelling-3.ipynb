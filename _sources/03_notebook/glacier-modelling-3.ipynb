{
 "cells": [
  {
   "cell_type": "markdown",
   "id": "8a53ac9e",
   "metadata": {},
   "source": [
    "# Notebook 3 -- Guidance for mini-projects"
   ]
  },
  {
   "cell_type": "markdown",
   "id": "5084f76e",
   "metadata": {},
   "source": [
    "## Goals of this notebook\n",
    "\n",
    "   - Find a glacier of interest\n",
    "   - Define research questions\n",
    "   - Propose modelling strategies\n",
    "   - Learn how to report results"
   ]
  },
  {
   "cell_type": "markdown",
   "id": "633de01c",
   "metadata": {},
   "source": [
    "## Mini-project\n",
    "\n",
    "The goal of the mini-project is to lead your own modelling study with IGM, perform numerical experiments that can answer specific research questions, and report the results."
   ]
  },
  {
   "cell_type": "markdown",
   "id": "aaf57157",
   "metadata": {},
   "source": [
    "### Step 1: Choose your own glacier\n",
    "\n",
    "You may explore https://www.glims.org/maps/glims to find a glacier you would like to model. You need to collect the RGI ID (v7) and save it, as we will use it to download the data. Here are the criteria to choose your glacier:\n",
    "\n",
    "- Prefer a well-defined mountain glacier, not an ice cap.\n",
    "- The area should be between 5 km² and 500 km² (otherwise, it may be tricky computationally). Between 20 km² and 100 km² is a good target.\n",
    "- It is better if the glacier is somewhat dynamic (with enough slope). You may look at Google Earth for a 3D view.\n",
    "- Ideally, it shows well-visible moraines from the Little Ice Age.\n",
    "- **Bonus:** The glacier has been studied already, and there is some existing literature associated with it.\n",
    "\n",
    "Once you have chosen your glacier, please communicate the RGI ID and glacier name (if any) to the professor. Make sure that the same glacier is not studied twice in the class."
   ]
  },
  {
   "cell_type": "markdown",
   "id": "3b19eea6",
   "metadata": {},
   "source": [
    "### Step 2: Define research questions\n",
    "\n",
    "You now must define your research questions. The most common one relates to establishing a prognosis for the coming century based on climate scenarios (e.g., increase in air temperature or ELA):\n",
    "\n",
    "**Climate scenarios**: RCP/SSP scenarios for future projections\n",
    "  - RCP2.6: Strong mitigation (~+1.5°C by 2100)\n",
    "  - RCP4.5: Moderate emissions (~+2.5°C by 2100)\n",
    "  - RCP8.5: High emissions (~+4.5°C by 2100)\n",
    "\n",
    "To reach this goal, we first model past periods such as the Little Ice Age to verify that the modelling of the glacier within the next 1 to 2 centuries is consistent with observations.\n",
    "\n",
    "Optionally, one may explore further with the model, such as modelling its moraines, etc."
   ]
  },
  {
   "cell_type": "markdown",
   "id": "bbd89a38",
   "metadata": {},
   "source": [
    "### Step 3: Define and perform modelling experiments\n",
    "\n",
    "- Make sure to include the module `oggm_shop` with the RGI ID of your glacier.\n",
    "- Start gently by doing a simple model run based on existing IGM examples.\n",
    "- First focus on reproducing past periods, typically from the Little Ice Age (~ 1850) to present, and only switch to future periods when you achieve reasonable past model runs.\n",
    "- Increase the model complexity: start with a simple SMB driven by ELA parameters, and then switch to a climate-driven SMB or custom SMB.\n",
    "- In case you have identified well-preserved moraines, you may switch on the particle module to try to reproduce them during the Little Ice Age to present period.\n",
    "\n",
    "**Tips:** As we don't have surface topography for the Little Ice Age period, the trick is to start much earlier (like 1700), assuming the glacier in 1700 had the present-day topography, and then apply a transient lowering of the ELA (or the temperature), followed by an increase of the ELA (or the temperature). Mind that there may be a gap between the climate signal and the glacier response; this is due to glacier inertia, which varies according to the glacier volume (large glaciers usually have more inertia, and therefore longer lags)."
   ]
  },
  {
   "cell_type": "markdown",
   "id": "9a10f6fa",
   "metadata": {},
   "source": [
    "### Step 4: Report your results\n",
    "\n",
    "In your report, you must make sure to present the following information:\n",
    "\n",
    "- Brief **rationale** of glacier modelling (why this study is important)\n",
    "- Presentation of the research question(s)\n",
    "- Presentation of the study site (location, characteristics, historical context)\n",
    "- Brief description of the model and your model set-up. You should explain **what** the model is doing, not **how** you are using it. In short, it should not look like code documentation. It should be readable by someone who doesn't know about IGM.\n",
    "- Presentation of the results with well-made plots (including maps, time series, cross-sections as appropriate)\n",
    "- Discussion of the results and connection with the research questions\n",
    "- Conclusions and potential future work"
   ]
  },
  {
   "cell_type": "markdown",
   "id": "de7dd7d8",
   "metadata": {},
   "source": []
  },
  {
   "cell_type": "markdown",
   "id": "d5c52506",
   "metadata": {},
   "source": [
    "## Additional Tips and Common Pitfalls\n",
    "\n",
    "### Model calibration tips\n",
    "\n",
    "1. **Start simple**: Begin with basic parameters and gradually increase complexity. Don't try to add all features at once.\n",
    "\n",
    "2. **ELA estimation**: The Equilibrium Line Altitude is crucial. For present-day conditions:\n",
    "   - You can estimate it from satellite imagery (snowline at end of summer)\n",
    "   - Typical values range from 2500-3500m in the Alps, but vary by location\n",
    "   - Historical ELA was typically 100-200m lower during the Little Ice Age\n",
    "\n",
    "3. **Mass balance gradients**: Typical values:\n",
    "   - Ablation gradient: 0.005-0.012 m ice eq./m\n",
    "   - Accumulation gradient: 0.002-0.006 m ice eq./m\n",
    "   - These depend on local climate (maritime vs continental)\n",
    "\n",
    "### Common pitfalls to avoid\n",
    " \n",
    "1. **Unrealistic glacier growth**: If your glacier grows indefinitely:\n",
    "   - Your ELA might be too low\n",
    "   - Check your accumulation parameters\n",
    "   - Ensure the mass balance gradient is physically reasonable\n",
    "\n",
    "2. **Too rapid glacier retreat**: If the glacier disappears too quickly:\n",
    "   - Your ELA might be too high\n",
    "   - Verify ablation parameters\n",
    "   - Check if you're applying realistic climate scenarios\n",
    "\n",
    "3. **Poor match with observations**:\n",
    "   - Don't expect perfect agreement - models are simplified representations\n",
    "   - Focus on matching general trends and patterns\n",
    "   - Consider uncertainty in historical data and model parameters\n",
    " "
   ]
  },
  {
   "cell_type": "markdown",
   "id": "8ef3ca25",
   "metadata": {},
   "source": [
    "## Suggested workflow\n",
    "\n",
    "Here is a recommended step-by-step workflow for your mini-project:\n",
    "\n",
    "### Phase 1: Setup and familiarization (Week 1)\n",
    "1. Select your glacier and collect its RGI ID\n",
    "2. Download glacier data using `oggm_shop`\n",
    "3. Run a simple steady-state simulation with default parameters\n",
    "4. Visualize the initial glacier geometry and topography\n",
    "\n",
    "### Phase 2: Historical calibration (Week 2)\n",
    "1. Estimate historical ELA values (LIA vs present)\n",
    "2. Set up a transient run from 1700 to present\n",
    "3. Calibrate SMB parameters to match present-day glacier extent\n",
    "4. Compare modeled results with available observations (moraines, historical maps)\n",
    "\n",
    "### Phase 3: Future projections (Week 3)\n",
    "1. Define climate scenarios for 2000-2100 (e.g., temperature increase)\n",
    "2. Run projections under different scenarios\n",
    "3. Analyze glacier response (volume loss, retreat rate, timing of disappearance)\n",
    "\n",
    "### Phase 4: Analysis and reporting (Week 4)\n",
    "1. Create publication-quality figures\n",
    "2. Write up results following the structure in Step 4\n",
    "3. Discuss uncertainties and limitations\n",
    "4. Draw conclusions related to your research questions"
   ]
  }
 ],
 "metadata": {
  "kernelspec": {
   "display_name": "igm",
   "language": "python",
   "name": "python3"
  },
  "language_info": {
   "codemirror_mode": {
    "name": "ipython",
    "version": 3
   },
   "file_extension": ".py",
   "mimetype": "text/x-python",
   "name": "python",
   "nbconvert_exporter": "python",
   "pygments_lexer": "ipython3",
   "version": "3.10.16"
  }
 },
 "nbformat": 4,
 "nbformat_minor": 5
}
