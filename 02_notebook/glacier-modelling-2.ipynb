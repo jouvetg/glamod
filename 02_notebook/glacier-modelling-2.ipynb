{
 "cells": [
  {
   "cell_type": "markdown",
   "id": "8a53ac9e",
   "metadata": {},
   "source": [
    "# Notebook 2\n",
    "\n",
    "- If you work on Google Colab, [![open In Colab](https://colab.research.google.com/assets/colab-badge.svg)](\n",
    "https://colab.research.google.com/github/jouvetg/glamod/blob/main/02_notebook/glacier-modelling-2.ipynb) and you will donwload the repo  below. Make sure to activate the GPU on Colab \"Runtime\" -> \"Change Runtime Type\" -> Slect GPU.\n",
    "\n",
    "- If you work locally on your own PC, you can download the repo\n",
    "```bash\n",
    "git clone --depth 1 https://github.com/jouvetg/glamod.git\n",
    "```\n",
    "and then go the notebook folder, and work from there."
   ]
  },
  {
   "cell_type": "markdown",
   "id": "5084f76e",
   "metadata": {},
   "source": [
    "## Goals of this notebook\n",
    "\n",
    "   - Get familiar with model IGM\n",
    "   - Understand the parameters, set-up your model\n",
    "   - Run IGM examples\n",
    "   - Customization, run IGM for your own glacier"
   ]
  },
  {
   "cell_type": "markdown",
   "id": "ae0bae51",
   "metadata": {},
   "source": [
    "## What is IGM?\n",
    "\n",
    "Here we will use the glacier evolution model developed at UNIL -- the Instructed Glacier Model.\n",
    " \n",
    "The IGM is an open-source Python package, which permits to simulate 3D glacier evolution accounting for the coupling between ice thermo-dynamics, surface mass balance, and mass conservation. IGM is especially computationally efficient thanks to the TensorFlow library, mathematical operations are fully-vectorized. This permits important speed-ups on [GPU](https://en.wikipedia.org/wiki/Graphics_processing_unit) (Graphics Processing Units), which are devices made of many processors, and can therefore perform highly-parallelized computations.\n",
    "\n",
    "All the documentation can be found at [https://igm-model.org/](https://igm-model.org/)."
   ]
  },
  {
   "cell_type": "markdown",
   "id": "3b73e6cf",
   "metadata": {},
   "source": [
    "## How to install IGM?\n",
    "\n",
    "Running IGM consists of running a python script `igm_run`, which is made of functions of the `igm` python package.  First of all, one needs to install igm as follows: (this may take a while, and it may crashes the first time, but should work the second time)."
   ]
  },
  {
   "cell_type": "code",
   "execution_count": null,
   "id": "16605c62",
   "metadata": {},
   "outputs": [],
   "source": [
    "! pip install -i https://test.pypi.org/simple/ --extra-index-url https://pypi.org/simple igm-model-testing-package==3.0.5\n",
    "! pip install ml-dtypes==0.5.3"
   ]
  },
  {
   "cell_type": "markdown",
   "id": "493eee8e",
   "metadata": {},
   "source": [
    "In this notebook, we will explore 3 model runs with increasing complexity:\n",
    "\n",
    "- A first basic run with a simple surface mass balance model\n",
    "- A second one that works for any glacier, with a more elaborate SMB\n",
    "- A third with a user-defined SMB and particle tracking"
   ]
  },
  {
   "cell_type": "markdown",
   "id": "2b6ad9d5",
   "metadata": {},
   "source": [
    "## Download the data"
   ]
  },
  {
   "cell_type": "markdown",
   "id": "65c83120",
   "metadata": {},
   "source": [
    "Let's now download the repo with the data if you are using Colab"
   ]
  },
  {
   "cell_type": "code",
   "execution_count": null,
   "id": "74642421",
   "metadata": {},
   "outputs": [],
   "source": [
    "import sys, os\n",
    " \n",
    "if \"google.colab\" in sys.modules:\n",
    "    print(\"Running in Colab: cloning repo...\")\n",
    "    !git clone --depth 1 https://github.com/jouvetg/glamod.git\n",
    "    !apt-get install tree -q\n",
    "else:\n",
    "    print(\"Running locally: using local files.\")"
   ]
  },
  {
   "cell_type": "markdown",
   "id": "d2cfa822",
   "metadata": {},
   "source": [
    "Let's now go the working folder"
   ]
  },
  {
   "cell_type": "code",
   "execution_count": null,
   "id": "608636f0",
   "metadata": {},
   "outputs": [],
   "source": [
    "if \"google.colab\" in sys.modules:\n",
    "    %cd /content/glamod/02_notebook"
   ]
  },
  {
   "cell_type": "markdown",
   "id": "cf6d6174",
   "metadata": {},
   "source": [
    "## First run with IGM"
   ]
  },
  {
   "cell_type": "markdown",
   "id": "ca7924d3",
   "metadata": {},
   "source": [
    "### Folder exploration\n",
    "\n",
    "Let us explore the directory with the following command:"
   ]
  },
  {
   "cell_type": "code",
   "execution_count": null,
   "id": "6e59ba48",
   "metadata": {},
   "outputs": [],
   "source": [
    "!tree"
   ]
  },
  {
   "cell_type": "markdown",
   "id": "fa77e115",
   "metadata": {},
   "source": [
    "You will see the following files :\n",
    "\n",
    "```bash\n",
    ".\n",
    "├── data                 # This folder contains all input data\n",
    "├── experiment           # This folder contains the parameters\n",
    "│   ├── params_0.yaml\n",
    "│   ├── ...\n",
    "└── user                 # This folder contains user code\n",
    "    ├── code \n",
    "    └── conf \n",
    "```"
   ]
  },
  {
   "cell_type": "markdown",
   "id": "2ae51552",
   "metadata": {},
   "source": [
    "### Parameter file exploration\n",
    "\n",
    "If you look at the parameter file, you will see the following content, which shows all the input, process, and output modules along with all their parameters. Below, you may notice that IGM: i) first loads a certain number of inputs, processes, and output modules, ii) second defines parameters associated with each module that deviate from default ones. \n",
    "\n",
    "Here is the content of `params_0.yaml`, taken from IGM's example `aletsch-basic`. Here, IGM loads data with the `local` module, proceeds to a simulation from 1900 to 2000 updating surface mass balance (`smb`), iceflow, time, and ice thickness. Then, it writes the results in both a local file (NetCDF file) and in the form of plots.\n",
    "\n",
    "```yaml title=\"params_0.yaml\"\n",
    "# @package _global_\n",
    "\n",
    "defaults:\n",
    "  - override /inputs: \n",
    "    - local                    # load local input module\n",
    "  - override /processes: \n",
    "    - smb_simple               # load smb_simple processes module\n",
    "    - iceflow                  # load iceflow processes module\n",
    "    - time                     # load time processes module\n",
    "    - thk                      # load thk processes module\n",
    "  - override /outputs: \n",
    "    - local                    # load local outputs module\n",
    "    - plot2d                   # load plot2d outputs module\n",
    "\n",
    "inputs:\n",
    "  local:\n",
    "     filename: input-aletsch.nc   # The local model will load the input-aletsch.nc file\n",
    "\n",
    "processes:\n",
    "  smb_simple:\n",
    "    array:\n",
    "      - [\"time\", \"gradabl\", \"gradacc\", \"ela\", \"accmax\"]\n",
    "      - [1900, 0.009, 0.005, 2800, 2.0]\n",
    "      - [2000, 0.009, 0.005, 2900, 2.0]\n",
    "      - [2100, 0.009, 0.005, 3300, 2.0]\n",
    "  time:\n",
    "    start: 1900.0\n",
    "    end: 2000.0\n",
    "    save: 10.0\n",
    "    \n",
    "outputs:\n",
    "  plot2d:\n",
    "    live: False\n",
    "```"
   ]
  },
  {
   "cell_type": "markdown",
   "id": "209b9a92",
   "metadata": {},
   "source": [
    "IGM is organized **module-wise** as shown in the following flowchart:\n",
    "\n",
    "![](https://igm-model.org/latest/modules/flowchat-module.png)\n",
    "\n",
    "As a user, you need to pick an ensemble of modules from existing ones (or you may create some user ones), and then define the parameters that deviate from default ones."
   ]
  },
  {
   "cell_type": "markdown",
   "id": "8418a706",
   "metadata": {},
   "source": [
    "### Exploring the data (`input.nc`)\n",
    "\n",
    "Before running IGM, it's useful to explore the input data file. The `input.nc` file is a NetCDF file that contains all the necessary spatial data for the glacier simulation, such as the bed topography, initial ice thickness, and other geographic information.\n",
    "\n",
    "We can use the `xarray` library to easily load and explore NetCDF files. Let's look at what's inside the `input.nc` file:"
   ]
  },
  {
   "cell_type": "code",
   "execution_count": null,
   "id": "9b209cb3",
   "metadata": {},
   "outputs": [],
   "source": [
    "import xarray as xr\n",
    "import matplotlib.pyplot as plt\n",
    "\n",
    "# Load the NetCDF file\n",
    "ds = xr.open_dataset('data/input-aletsch.nc')\n",
    "\n",
    "# Display the dataset structure\n",
    "print(\"Dataset structure:\")\n",
    "print(ds)\n",
    "print(\"\\n\" + \"=\"*60 + \"\\n\")\n",
    "\n",
    "# Show data variables\n",
    "print(\"Data variables:\")\n",
    "for var in ds.data_vars:\n",
    "    print(f\"  - {var}: {ds[var].attrs.get('long_name', 'No description')}\")\n",
    "    print(f\"    Shape: {ds[var].shape}, Units: {ds[var].attrs.get('units', 'N/A')}\")\n",
    "print(\"\\n\" + \"=\"*60 + \"\\n\")"
   ]
  },
  {
   "cell_type": "markdown",
   "id": "a2ce61cc",
   "metadata": {},
   "source": [
    "Now let's visualize some of the key fields in the input data:"
   ]
  },
  {
   "cell_type": "code",
   "execution_count": null,
   "id": "9c8a4fae",
   "metadata": {},
   "outputs": [],
   "source": [
    "# Create a figure with multiple subplots to visualize the data\n",
    "fig, axes = plt.subplots(1, 3, figsize=(14, 5))\n",
    "\n",
    "# Plot bed topography (topg)\n",
    "ds['usurf'].plot(ax=axes[0], cmap='terrain')\n",
    "axes[0].set_title('Surface Topography')\n",
    "axes[0].set_aspect('equal')\n",
    "\n",
    "# Plot ice thickness (thk) \n",
    "ds['thk'].plot(ax=axes[1], cmap='Blues')\n",
    "axes[1].set_title('Ice Thickness')\n",
    "axes[1].set_aspect('equal')\n",
    "\n",
    "# Plot ice mask \n",
    "ds['icemask'].plot(ax=axes[2], cmap='gray')\n",
    "axes[2].set_title('Ice Mask')\n",
    "axes[2].set_aspect('equal')\n",
    " \n",
    "plt.tight_layout()\n",
    "plt.show()"
   ]
  },
  {
   "cell_type": "markdown",
   "id": "1dcf0093",
   "metadata": {},
   "source": [
    "What you see above shows raster grids of top surface elevation, ice thickness, and ice mask for the Aletsch Glacier at a spatial resolution of 100 m."
   ]
  },
  {
   "cell_type": "markdown",
   "id": "30746463",
   "metadata": {},
   "source": [
    "### 'Simple' Surface Mass Balance\n",
    "\n",
    "The snow accumulation budget (which turns into ice) at altitude and ice melt depends on precipitation and temperature. This mass balance $SMB(z)$ is commonly defined as a function of altitude and depends on different factors: \n",
    "\n",
    "- A slope that controls the mass balance gradients in both the accumulation $b_\\mathrm{acc}$ and the ablation area $b_\\mathrm{abl}$\n",
    "- A maximum value for accumulation $b_\\mathrm{max}$\n",
    "- The altitude of the equilibrium line $z_\\mathrm{ELA}$ beyond which ice accumulates and below which ice melts\n",
    "\n",
    "Mathematically, $SMB(z)$ can be expressed as a piecewise function:\n",
    "\n",
    "$$\n",
    "SMB(z) = \\begin{cases}\n",
    "b_\\mathrm{abl} \\cdot (z - z_\\mathrm{ELA}) & \\text{if } z < z_\\mathrm{ELA} \\text{ (ablation zone)} \\\\\n",
    "\\min(b_\\mathrm{acc} \\cdot (z - z_\\mathrm{ELA}), b_\\mathrm{max}) & \\text{if } z \\geq z_\\mathrm{ELA} \\text{ (accumulation zone)}\n",
    "\\end{cases}\n",
    "$$\n",
    "\n",
    "The code in the next block gives an example of SMB function as a function of elevation $z$."
   ]
  },
  {
   "cell_type": "code",
   "execution_count": null,
   "id": "447a5893",
   "metadata": {},
   "outputs": [],
   "source": [
    "import numpy as np\n",
    "import matplotlib.pyplot as plt\n",
    "\n",
    "z_ELA=3000.0\n",
    "grad_abl=0.009\n",
    "grad_acc=0.005\n",
    "b_max=2.0 \n",
    "\n",
    "def smb_fct(elev):\n",
    "    smb = elev - z_ELA\n",
    "    smb *= np.where(smb < 0, grad_abl, grad_acc) \n",
    "    return np.minimum(smb, b_max)\n",
    "\n",
    "elev = np.arange(2000.0, 4000.0, 20.0) \n",
    "plt.axhline(y=z_ELA, color='r', linestyle='--', label='ELA')\n",
    "plt.plot(smb_fct(elev), elev)\n",
    "plt.ylabel('Altitude [m]')\n",
    "plt.xlabel('SMB [m/y]')\n",
    "plt.title('Example of SMB as a function of elevation')\n",
    "plt.legend()\n",
    "plt.grid(True, alpha=0.3)\n",
    "plt.show()"
   ]
  },
  {
   "cell_type": "markdown",
   "id": "0abcfd89",
   "metadata": {},
   "source": [
    "### Running IGM (`params_0`)\n",
    "\n",
    "Now, we can run IGM by simply running the command `igm_run +experiment=params_0` (or replace `params_0` with the actual name of your parameter file) in the corresponding folder to execute the example. This will model the evolution of Aletsch Glacier for 100 years given the Surface Mass Balance parameters specified in the parameter file."
   ]
  },
  {
   "cell_type": "code",
   "execution_count": null,
   "id": "fc39442a",
   "metadata": {},
   "outputs": [],
   "source": [
    "!igm_run +experiment=params_0"
   ]
  },
  {
   "cell_type": "markdown",
   "id": "4e9eaffb",
   "metadata": {},
   "source": [
    "### Explore the output\n",
    "\n",
    "Each IGM run will generate a folder with the date as the parent folder and the time as a subfolder. For instance, after a few runs we could end up with the following structure:\n",
    "\n",
    "```bash\n",
    "outputs\n",
    "  └───2025-04-07\n",
    "      ├─── 12-06-29 \n",
    "      └─── 12-07-38 \n",
    "```"
   ]
  },
  {
   "cell_type": "code",
   "execution_count": null,
   "id": "58ffdee4",
   "metadata": {},
   "outputs": [],
   "source": [
    "!tree"
   ]
  },
  {
   "cell_type": "markdown",
   "id": "547d12e6",
   "metadata": {},
   "source": [
    "After the IGM run, you may have a quick look at the results by exploring:\n",
    "\n",
    "- Files `velbar_mag-19XX.0.png` that display ice speed and extent over the simulation time\n",
    "- `output.nc` that stores all the spatio-temporal output results\n",
    "- `output_ts.nc` that stores all time-dependent volume and area data\n",
    "\n",
    "Using the helper function, you can visualize the results:"
   ]
  },
  {
   "cell_type": "code",
   "execution_count": null,
   "id": "2d26159b",
   "metadata": {},
   "outputs": [],
   "source": [
    "from helper import *\n",
    "import glob\n",
    "\n",
    "# Find all output files\n",
    "A = glob.glob('outputs/*/*/output.nc')\n",
    "print(f\"Found {len(A)} output file(s):\", A)\n",
    "\n",
    "if A:\n",
    "    # Animate the last run\n",
    "    animate_glacier_evolution(A[-1])\n",
    "else:\n",
    "    print(\"No output.nc files found. Please run the model first.\")"
   ]
  },
  {
   "cell_type": "markdown",
   "id": "c27db738",
   "metadata": {},
   "source": [
    "### Analyzing the time series results\n",
    "\n",
    "Let's examine how the glacier ice volume and ice area evolved over the simulation period by reading the `output_ts.nc` file:"
   ]
  },
  {
   "cell_type": "code",
   "execution_count": null,
   "id": "24320ee0",
   "metadata": {},
   "outputs": [],
   "source": [
    "from helper import *\n",
    "import glob\n",
    "import os\n",
    "\n",
    "# Find all time series files and select the most recent one\n",
    "ts_files = sorted(glob.glob('outputs/*/*/output_ts.nc'))\n",
    "\n",
    "if ts_files:\n",
    "    # Get the absolute path to ensure it works from any directory\n",
    "    ts_file = os.path.abspath(ts_files[-1])\n",
    "    print(f\"Found {len(ts_files)} time series file(s). Using: {ts_files[-1]}\\n\")\n",
    "    # Analyze the time series from the most recent run\n",
    "    analyze_time_series(ts_file)\n",
    "else:\n",
    "    print(\"No output_ts.nc file found. Please run the model first.\")"
   ]
  },
  {
   "cell_type": "markdown",
   "id": "44243e3b",
   "metadata": {},
   "source": [
    "Congratulations! You have successfully run your first glacier model simulation using the IGM package. You can now explore different parameters and scenarios to see how they affect glacier dynamics. Happy modeling!\n",
    "\n",
    "You may now try to modify some parameters in the configuration file `params_0.yaml` and rerun the simulation to observe how changes impact the glacier's behavior.    \n",
    "\n",
    "**Tips:** Create a new parameter file by copying `params_0.yaml` to `params_0_student.yaml` and modify it. Then run the simulation with the command `igm_run +experiment=params_0_student`."
   ]
  },
  {
   "cell_type": "markdown",
   "id": "b9345b7f",
   "metadata": {},
   "source": [
    "## Second run with IGM"
   ]
  },
  {
   "cell_type": "markdown",
   "id": "f95de27d",
   "metadata": {},
   "source": [
    "The above example is somewhat limited. In a second run, we are making improvements using `params_1.yaml` instead of `params_0.yaml`:\n",
    "\n",
    "**First improvement:** Instead of using local data, we use the module `oggm_shop` to download all necessary data. The main advantage is that we can order any glacier using their RGI ID, and therefore get the data for any glacier on Earth!\n",
    "\n",
    "**Second improvement:** OGGM will download climate data (a time series), which will serve to generate a climate (temperature and precipitation in module `clim_oggm`) to compute a better Surface Mass Balance model. Note this parameter in the parameter file:\n",
    "\n",
    "```yaml\n",
    "  clim_oggm:\n",
    "    clim_trend_array: \n",
    "      - [\"time\", \"delta_temp\", \"prec_scal\"]\n",
    "      - [ 1900,           0.0,         1.0]\n",
    "      - [ 2020,           0.0,         1.0]\n",
    "      - [ 2100,           4.0,         1.0]\n",
    "```\n",
    "\n",
    "Similar to the previous method, this array assigns weights to modify precipitation and temperature series based on a *neutral* climate period, typically defined as 1960-1990. By adjusting the temperature offset in the `delta_temp` column, for example, a value of -2.0 would create a climate scenario for the 1960-1990 period that is 2 degrees cooler. Likewise, by modifying the precipitation scaling in the `prec_scal` column, a value of 1.5 would result in a climate scenario that has 150% of the precipitation compared to the 1960-1990 average.\n",
    "\n",
    "Finally, you can incorporate this parameter to provide global control for melt (note that the melt parameters in the PDD model are notoriously uncertain):\n",
    "\n",
    "```yaml\n",
    "   melt_enhancer: 0.7\n",
    "```\n",
    "\n",
    "Find more information about the generated climate [here](https://igm-model.org/latest/modules/processes/clim_oggm/).\n",
    "\n",
    "**Third improvement:** Instead of using the Simple Surface Mass Balance `smb_simple`, and now that we have climate available, we will use the `smb_oggm` SMB, which is a monthly temperature index model as described [here](https://igm-model.org/latest/modules/processes/smb_oggm/).\n",
    "\n",
    "First explore `params_1.yaml`, then run the following command, which will model the Glacier with RGI ID `RGI60-11.01450` (the Great Aletsch Glacier, Switzerland) from 2020 to 2100, assuming a temperature increase of 4 degrees by 2100 relative to 1960–1990:"
   ]
  },
  {
   "cell_type": "code",
   "execution_count": null,
   "id": "f0ef1460",
   "metadata": {},
   "outputs": [],
   "source": [
    "! igm_run +experiment=params_1"
   ]
  },
  {
   "cell_type": "markdown",
   "id": "58971f6d",
   "metadata": {},
   "source": [
    "Running the code has created the following output files:"
   ]
  },
  {
   "cell_type": "code",
   "execution_count": null,
   "id": "23e56e44",
   "metadata": {},
   "outputs": [],
   "source": [
    "from helper import *\n",
    "import glob\n",
    "\n",
    "# Find all output files\n",
    "A = glob.glob('outputs/*/*/output.nc')\n",
    "print(f\"Found {len(A)} output file(s):\", A)\n",
    "\n",
    "if A:\n",
    "    # Animate the last run\n",
    "    animate_glacier_evolution(A[-1])\n",
    "else:\n",
    "    print(\"No output.nc files found. Please run the model first.\")"
   ]
  },
  {
   "cell_type": "markdown",
   "id": "7d155d6b",
   "metadata": {},
   "source": [
    "## Visualizing Climate Data\n",
    "\n",
    "Let's explore the historical climate data that was used for the glacier simulation. We will open the `climate_historical.nc` file and plot the smoothed precipitation and temperature time series on the same graph."
   ]
  },
  {
   "cell_type": "code",
   "execution_count": null,
   "id": "e1a8972f",
   "metadata": {},
   "outputs": [],
   "source": [
    "import xarray as xr\n",
    "import matplotlib.pyplot as plt\n",
    "import numpy as np\n",
    "from scipy.ndimage import uniform_filter1d\n",
    "\n",
    "# Open the climate data\n",
    "climate_data = xr.open_dataset('data/RGI2000-v7.0-G-11-02596/climate_historical.nc')\n",
    "\n",
    "# Extract temperature and precipitation\n",
    "temp = climate_data['temp'].values\n",
    "prcp = climate_data['prcp'].values\n",
    "time = climate_data['time'].values\n",
    "\n",
    "# Apply smoothing (moving average with window size of 12 months for annual smoothing)\n",
    "window_size = 12\n",
    "temp_smoothed = uniform_filter1d(temp, size=window_size, mode='nearest')\n",
    "prcp_smoothed = uniform_filter1d(prcp, size=window_size, mode='nearest')\n",
    "\n",
    "# Create figure with two y-axes\n",
    "fig, ax1 = plt.subplots(figsize=(12, 6))\n",
    "\n",
    "# Plot temperature on the left y-axis\n",
    "color = 'tab:red'\n",
    "ax1.set_xlabel('Time', fontsize=12)\n",
    "ax1.set_ylabel('Temperature (°C)', color=color, fontsize=12)\n",
    "ax1.plot(time, temp_smoothed, color=color, linewidth=2, label='Temperature (smoothed)')\n",
    "ax1.tick_params(axis='y', labelcolor=color)\n",
    "ax1.grid(True, alpha=0.3)\n",
    "\n",
    "# Create second y-axis for precipitation\n",
    "ax2 = ax1.twinx()\n",
    "color = 'tab:blue'\n",
    "ax2.set_ylabel('Precipitation (mm)', color=color, fontsize=12)\n",
    "ax2.plot(time, prcp_smoothed, color=color, linewidth=2, label='Precipitation (smoothed)')\n",
    "ax2.tick_params(axis='y', labelcolor=color)\n",
    "\n",
    "# Add title and layout\n",
    "plt.title('Historical Climate Data (Smoothed)', fontsize=14, fontweight='bold')\n",
    "fig.tight_layout()\n",
    "\n",
    "# Add legends\n",
    "ax1.legend(loc='upper left')\n",
    "ax2.legend(loc='upper right')\n",
    "\n",
    "plt.show()\n",
    "\n",
    "# Display some basic statistics\n",
    "print(f\"\\nClimate Data Summary:\")\n",
    "print(f\"Time period: {time[0]} to {time[-1]}\")\n",
    "print(f\"Temperature range: {temp.min():.2f}°C to {temp.max():.2f}°C\")\n",
    "print(f\"Mean temperature: {temp.mean():.2f}°C\")\n",
    "print(f\"Precipitation range: {prcp.min():.2f} to {prcp.max():.2f} mm\")\n",
    "print(f\"Mean precipitation: {prcp.mean():.2f} mm\")"
   ]
  },
  {
   "cell_type": "markdown",
   "id": "eceaa547",
   "metadata": {},
   "source": [
    "### Analyzing the time series results\n",
    "\n",
    "Let's examine how the glacier evolved under the climate scenario:"
   ]
  },
  {
   "cell_type": "code",
   "execution_count": null,
   "id": "f2439d7f",
   "metadata": {},
   "outputs": [],
   "source": [
    "from helper import *\n",
    "import glob\n",
    "import os\n",
    "\n",
    "# Find all time series files and select the most recent one\n",
    "ts_files = sorted(glob.glob('outputs/*/*/output_ts.nc'))\n",
    "\n",
    "if ts_files:\n",
    "    # Get the absolute path to ensure it works from any directory\n",
    "    ts_file = os.path.abspath(ts_files[-1])\n",
    "    print(f\"Found {len(ts_files)} time series file(s). Using: {ts_files[-1]}\\n\")\n",
    "    # Analyze the time series from the most recent run\n",
    "    analyze_time_series(ts_file)\n",
    "else:\n",
    "    print(\"No output_ts.nc file found. Please run the model first.\")"
   ]
  },
  {
   "cell_type": "markdown",
   "id": "02a96d8e",
   "metadata": {},
   "source": [
    "## Third run with IGM (Extra, not necessary for the course)\n",
    "\n",
    "In a third run, we will bring 2 additional new features (explore the parameter file `params_2.yaml`):\n",
    "\n",
    "**First new feature:** Using a **custom SMB function** that is defined in the `user` folder. Explore the `user` folder and the parameter file `params_2.yaml` to see how custom code can be integrated.\n",
    "\n",
    "**Second new feature:** We activate a particle tracking module to simulate the displacement of virtual particles within the ice flow. These particles may represent debris or sediments that are transported by the glacier and are responsible for the formation of moraines. Our goal is to model the formation of the main moraine that developed during the Little Ice Age when the glacier reached its maximum extent. \n",
    "\n",
    "To achieve this, we have added in `params_2.yaml` two modules: `vert_flow` and `particles`. The `vert_flow` module computes vertical velocities (which is not done by default as it is not usually required), while the `particles` module tracks the trajectory of individual particles. It is possible to visualize the moraine formed by looking at the file `velbar_mag-XXXX.0.png`. \n",
    "\n",
    "Run the following command:"
   ]
  },
  {
   "cell_type": "code",
   "execution_count": null,
   "id": "f1ede01d",
   "metadata": {},
   "outputs": [],
   "source": [
    "! igm_run +experiment=params_2"
   ]
  }
 ],
 "metadata": {
  "kernelspec": {
   "display_name": "igm",
   "language": "python",
   "name": "python3"
  },
  "language_info": {
   "codemirror_mode": {
    "name": "ipython",
    "version": 3
   },
   "file_extension": ".py",
   "mimetype": "text/x-python",
   "name": "python",
   "nbconvert_exporter": "python",
   "pygments_lexer": "ipython3",
   "version": "3.10.16"
  }
 },
 "nbformat": 4,
 "nbformat_minor": 5
}
